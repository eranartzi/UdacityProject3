{
 "cells": [
  {
   "cell_type": "code",
   "execution_count": 1,
   "metadata": {
    "scrolled": false
   },
   "outputs": [
    {
     "name": "stdout",
     "output_type": "stream",
     "text": [
      "\u001b[31mtensorflow 1.7.1 has requirement numpy>=1.13.3, but you'll have numpy 1.12.1 which is incompatible.\u001b[0m\r\n",
      "\u001b[31mipython 6.5.0 has requirement prompt-toolkit<2.0.0,>=1.0.15, but you'll have prompt-toolkit 2.0.9 which is incompatible.\u001b[0m\r\n"
     ]
    }
   ],
   "source": [
    "!pip -q install ./python"
   ]
  },
  {
   "cell_type": "code",
   "execution_count": 2,
   "metadata": {},
   "outputs": [],
   "source": [
    "from unityagents import UnityEnvironment\n",
    "import numpy as np\n",
    "import random\n",
    "import torch\n",
    "import os\n",
    "import numpy as np\n",
    "from collections import deque\n",
    "import time\n",
    "import matplotlib.pyplot as plt\n",
    "import warnings"
   ]
  },
  {
   "cell_type": "code",
   "execution_count": 3,
   "metadata": {},
   "outputs": [],
   "source": [
    "%matplotlib inline\n",
    "plt.style.use('ggplot')\n",
    "np.set_printoptions(precision=4, linewidth=130)\n",
    "warnings.filterwarnings(\"ignore\")\n",
    "model_dir = os.getcwd()+\"/model_dir\"\n",
    "os.makedirs(model_dir, exist_ok=True)"
   ]
  },
  {
   "cell_type": "code",
   "execution_count": 4,
   "metadata": {},
   "outputs": [
    {
     "name": "stderr",
     "output_type": "stream",
     "text": [
      "INFO:unityagents:\n",
      "'Academy' started successfully!\n",
      "Unity Academy name: Academy\n",
      "        Number of Brains: 1\n",
      "        Number of External Brains : 1\n",
      "        Lesson number : 0\n",
      "        Reset Parameters :\n",
      "\t\t\n",
      "Unity brain name: TennisBrain\n",
      "        Number of Visual Observations (per agent): 0\n",
      "        Vector Observation space type: continuous\n",
      "        Vector Observation space size (per agent): 8\n",
      "        Number of stacked Vector Observation: 3\n",
      "        Vector Action space type: continuous\n",
      "        Vector Action space size (per agent): 2\n",
      "        Vector Action descriptions: , \n"
     ]
    }
   ],
   "source": [
    "# Load a single agent of the environment\n",
    "env = UnityEnvironment(file_name=\"/data/Tennis_Linux_NoVis/Tennis\")\n",
    "\n",
    "# Get the default brain\n",
    "brain_name = env.brain_names[0]\n",
    "brain = env.brains[brain_name]"
   ]
  },
  {
   "cell_type": "code",
   "execution_count": 13,
   "metadata": {},
   "outputs": [
    {
     "name": "stdout",
     "output_type": "stream",
     "text": [
      "Agents Num: 2\n",
      "State Shape (per agent): 24\n",
      "Len of action space: 2\n"
     ]
    }
   ],
   "source": [
    "# Reset the environment    \n",
    "env_info = env.reset(train_mode=True)[brain_name]     \n",
    "\n",
    "# number of agents\n",
    "num_agents = len(env_info.agents)\n",
    "\n",
    "# size of each action\n",
    "ENV_ACTION_SIZE = brain.vector_action_space_size\n",
    "\n",
    "# size of the state space \n",
    "states = env_info.vector_observations\n",
    "ENV_STATE_SIZE = states.shape[1]\n",
    "\n",
    "print('Agents Num: {}\\nState Shape (per agent): {}\\nLen of action space: {}'.format(\n",
    "    states.shape[0],\n",
    "    ENV_STATE_SIZE,\n",
    "    ENV_ACTION_SIZE\n",
    "    )\n",
    ")"
   ]
  },
  {
   "cell_type": "code",
   "execution_count": 6,
   "metadata": {},
   "outputs": [
    {
     "name": "stdout",
     "output_type": "stream",
     "text": [
      "Score (max over agents) from episode 1: 0.0\n",
      "Score (max over agents) from episode 2: 0.0\n",
      "Score (max over agents) from episode 3: 0.0\n",
      "Score (max over agents) from episode 4: 0.0\n",
      "Score (max over agents) from episode 5: 0.09000000171363354\n"
     ]
    }
   ],
   "source": [
    "def random_agents():    \n",
    "    for i_episode in range(1, 6):\n",
    "        env_info = env.reset(train_mode=False)[brain_name]\n",
    "        states = env_info.vector_observations\n",
    "        scores = np.zeros(num_agents)\n",
    "        t = 0\n",
    "        while True:\n",
    "            t+=1\n",
    "            actions = np.random.randn(num_agents, ENV_ACTION_SIZE)\n",
    "            actions = np.clip(actions, -1, 1)\n",
    "            env_info = env.step(actions)[brain_name]\n",
    "            next_states = env_info.vector_observations\n",
    "            rewards = env_info.rewards\n",
    "            dones = env_info.local_done\n",
    "            scores += env_info.rewards\n",
    "            states = next_states\n",
    "            if np.any(dones):\n",
    "                break\n",
    "        print('Score (max over agents) from episode {}: {}'.format(i_episode, np.max(scores)))\n",
    "\n",
    "random_agents()"
   ]
  },
  {
   "cell_type": "markdown",
   "metadata": {},
   "source": [
    "# maddpg training"
   ]
  },
  {
   "cell_type": "markdown",
   "metadata": {},
   "source": [
    "## plotting method"
   ]
  },
  {
   "cell_type": "code",
   "execution_count": 7,
   "metadata": {},
   "outputs": [],
   "source": [
    "def plot(scores):\n",
    "    '''plot scores'''\n",
    "    fig = plt.figure()\n",
    "    ax = fig.add_subplot(111)\n",
    "    ax.tick_params(axis='x')\n",
    "    ax.tick_params(axis='y')\n",
    "    plt.plot(np.arange(1, len(scores)+1), scores)\n",
    "    plt.ylabel('Score')\n",
    "    plt.xlabel('Episode #')\n",
    "    plt.show()"
   ]
  },
  {
   "cell_type": "code",
   "execution_count": 8,
   "metadata": {},
   "outputs": [],
   "source": [
    "from maddpg_agents import Maddpg\n",
    "from hparams import *\n",
    "\n",
    "def train(): \n",
    "    np.random.seed(SEED)\n",
    "    torch.manual_seed(SEED)\n",
    "    # Instantiate the MADDPG agents\n",
    "    maddpg = Maddpg(ENV_STATE_SIZE, ENV_ACTION_SIZE, num_agents, SEED)\n",
    "    # Monitor the score    \n",
    "    scores_deque = deque(maxlen=100)\n",
    "    all_scores = []\n",
    "    all_avg_score = []\n",
    "    # Intialize amplitude OUNoise\n",
    "    noise = NOISE\n",
    "    all_steps = 0  \n",
    "    for i_episode in range(NB_EPISODES+1):  \n",
    "        env_info = env.reset(train_mode=True)[brain_name]\n",
    "        maddpg.reset()\n",
    "        states = env_info.vector_observations\n",
    "        scores = np.zeros(num_agents)\n",
    "        for steps in range(NB_STEPS):\n",
    "            all_steps += 1\n",
    "            actions = maddpg.act(states, noise)                    # retrieve actions to performe for each agents \n",
    "            noise *= NOISE_REDUCTION                               # Decrease action noise\n",
    "            env_info = env.step(actions)[brain_name]               # send all actions to tne environment\n",
    "            next_states = env_info.vector_observations             # get next state for each agent\n",
    "            rewards = env_info.rewards                             # get rewards (for each agent)\n",
    "            dones = env_info.local_done                            # get episode end flags\n",
    "            maddpg.step(states, actions, rewards, next_states, dones, i_episode)  # experiences => buffer + random sample experiences tuples for learning\n",
    "            scores += env_info.rewards\n",
    "            states = next_states\n",
    "            if np.any(dones):\n",
    "                break\n",
    "        \n",
    "        # Saving scores and computing metrics\n",
    "        episode_score  = np.max(scores) # take the score of the leading agent\n",
    "        all_scores.append(episode_score)\n",
    "        scores_deque.append(episode_score)\n",
    "        avg_score = np.mean(scores_deque)\n",
    "\n",
    "        print('Episode {}\\tAverage Score: {:.2f}\\tEpisode score (max over agents): {:.2f}'.format(i_episode, avg_score, episode_score), end=\"\\r\")\n",
    "        if i_episode > 0 and i_episode % 100 == 0:\n",
    "            print('\\rEpisode {}\\tAverage Score: {:.2f} (nb of total steps={}   noise={:.4f})'.format(i_episode, avg_score, all_steps, noise))\n",
    "            maddpg.checkpoints()\n",
    "            all_avg_score.append(avg_score)\n",
    "        \n",
    "        # Early stop\n",
    "        if (i_episode > 99) and (avg_score >=0.5):\n",
    "            print('\\rEnvironment solved in {} episodes with an Average Score of {:.2f}'.format(i_episode, avg_score))\n",
    "            maddpg.checkpoints()\n",
    "            return all_scores\n",
    "\n",
    "    return all_scores"
   ]
  },
  {
   "cell_type": "code",
   "execution_count": 9,
   "metadata": {
    "scrolled": false
   },
   "outputs": [
    {
     "name": "stdout",
     "output_type": "stream",
     "text": [
      "Episode 100\tAverage Score: 0.01 (nb of total steps=1721   noise=1.0000)\n",
      "Episode 200\tAverage Score: 0.01 (nb of total steps=3266   noise=1.0000)\n",
      "Episode 300\tAverage Score: 0.00 (nb of total steps=4755   noise=1.0000)\n",
      "Episode 400\tAverage Score: 0.01 (nb of total steps=6306   noise=1.0000)\n",
      "Episode 500\tAverage Score: 0.02 (nb of total steps=7968   noise=1.0000)\n",
      "Episode 600\tAverage Score: 0.01 (nb of total steps=9603   noise=1.0000)\n",
      "Episode 700\tAverage Score: 0.02 (nb of total steps=11267   noise=1.0000)\n",
      "Episode 800\tAverage Score: 0.03 (nb of total steps=13289   noise=1.0000)\n",
      "Episode 900\tAverage Score: 0.05 (nb of total steps=15797   noise=1.0000)\n",
      "Episode 1000\tAverage Score: 0.06 (nb of total steps=18385   noise=1.0000)\n",
      "Episode 1100\tAverage Score: 0.09 (nb of total steps=21519   noise=1.0000)\n",
      "Episode 1200\tAverage Score: 0.09 (nb of total steps=24825   noise=1.0000)\n",
      "Episode 1300\tAverage Score: 0.11 (nb of total steps=28710   noise=1.0000)\n",
      "Episode 1400\tAverage Score: 0.06 (nb of total steps=31219   noise=1.0000)\n",
      "Episode 1500\tAverage Score: 0.10 (nb of total steps=34624   noise=1.0000)\n",
      "Episode 1600\tAverage Score: 0.10 (nb of total steps=38266   noise=1.0000)\n",
      "Episode 1700\tAverage Score: 0.11 (nb of total steps=41838   noise=1.0000)\n",
      "Episode 1800\tAverage Score: 0.11 (nb of total steps=46068   noise=1.0000)\n",
      "Episode 1900\tAverage Score: 0.12 (nb of total steps=50292   noise=1.0000)\n",
      "Episode 2000\tAverage Score: 0.11 (nb of total steps=54589   noise=1.0000)\n",
      "Episode 2100\tAverage Score: 0.17 (nb of total steps=60956   noise=1.0000)\n",
      "Episode 2200\tAverage Score: 0.18 (nb of total steps=67468   noise=1.0000)\n",
      "Episode 2300\tAverage Score: 0.14 (nb of total steps=72314   noise=1.0000)\n",
      "Episode 2400\tAverage Score: 0.22 (nb of total steps=80133   noise=1.0000)\n",
      "Episode 2500\tAverage Score: 0.26 (nb of total steps=89519   noise=1.0000)\n",
      "Episode 2600\tAverage Score: 0.29 (nb of total steps=99881   noise=1.0000)\n",
      "Episode 2700\tAverage Score: 0.29 (nb of total steps=110121   noise=1.0000)\n",
      "Episode 2800\tAverage Score: 0.30 (nb of total steps=120774   noise=1.0000)\n",
      "Episode 2900\tAverage Score: 0.31 (nb of total steps=131682   noise=1.0000)\n",
      "Episode 3000\tAverage Score: 0.38 (nb of total steps=144570   noise=1.0000)\n",
      "Environment solved in 3073 episodes with an Average Score of 0.51 2.19\n"
     ]
    },
    {
     "data": {
      "image/png": "[encoded data removed]",
      "text/plain": [
       "<matplotlib.figure.Figure at 0x7fd0dc536b38>"
      ]
     },
     "metadata": {},
     "output_type": "display_data"
    }
   ],
   "source": [
    "# Launch training\n",
    "scores = train()\n",
    "plot(scores)"
   ]
  },
  {
   "cell_type": "code",
   "execution_count": null,
   "metadata": {},
   "outputs": [],
   "source": []
  }
 ],
 "metadata": {
  "kernelspec": {
   "display_name": "Python 3",
   "language": "python",
   "name": "python3"
  },
  "language_info": {
   "codemirror_mode": {
    "name": "ipython",
    "version": 3
   },
   "file_extension": ".py",
   "mimetype": "text/x-python",
   "name": "python",
   "nbconvert_exporter": "python",
   "pygments_lexer": "ipython3",
   "version": "3.6.3"
  }
 },
 "nbformat": 4,
 "nbformat_minor": 2
}
